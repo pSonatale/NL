{
 "cells": [
  {
   "cell_type": "code",
   "execution_count": null,
   "metadata": {
    "id": "ge4NQsQZ8dGi"
   },
   "outputs": [],
   "source": [
    "# 📦 설치\n",
    "!pip install transformers pandas openpyxl\n"
   ]
  },
  {
   "cell_type": "code",
   "execution_count": null,
   "metadata": {
    "colab": {
     "base_uri": "https://localhost:8080/",
     "height": 751
    },
    "id": "jGhERPia8n4q",
    "outputId": "3d57caab-2080-43f7-9294-a89200f13862"
   },
   "outputs": [],
   "source": [
    "import pandas as pd\n",
    "\n",
    "df = pd.read_excel(\"/content/kote.xlsx\", engine=\"openpyxl\")\n",
    "print(\"✅ 컬럼명 목록:\", df.columns.tolist())\n",
    "df.head()\n",
    "\n"
   ]
  },
  {
   "cell_type": "code",
   "execution_count": null,
   "metadata": {
    "colab": {
     "base_uri": "https://localhost:8080/",
     "height": 751
    },
    "id": "WbFMx2ekhlgf",
    "outputId": "071e1b5a-83cf-409a-d002-83b1692b9ef7"
   },
   "outputs": [],
   "source": [
    "\n",
    "# ✅ 라이브러리 불러오기\n",
    "import pandas as pd\n",
    "import torch\n",
    "from transformers import AutoTokenizer, AutoModelForSequenceClassification, TextClassificationPipeline\n",
    "# ✅ 정확한 Colab 경로로 수정\n",
    "xlsx_path = \"/content/kote.xlsx\"\n",
    "\n",
    "# 파일 로딩\n",
    "df = pd.read_excel(xlsx_path, engine=\"openpyxl\")\n",
    "\n",
    "# 컬럼명 확인\n",
    "print(\"✔️ 컬럼명 목록:\", df.columns.tolist())\n",
    "df.head()\n"
   ]
  },
  {
   "cell_type": "code",
   "execution_count": null,
   "metadata": {
    "colab": {
     "base_uri": "https://localhost:8080/",
     "height": 1000,
     "referenced_widgets": [
      "4eb3f1c347ff401e8e7af317abc2e293",
      "0f3e4b0fa0404486909098ac83b21fae",
      "40cddcdb749c4844bfb3d654c6b74051",
      "e6201087bb524886abe6e1a85b68a5c6",
      "f6c62625ef2446e687bb06a4c0efb391",
      "dbdd004540f1465a9a9dd36ea1ccf36d",
      "9e506da741bf4bc289716b45863e5e03",
      "8f84a0b0437e41f59c05378c6e34caad",
      "2329f8ff401a4046973cf1798206d99b",
      "85be1920c22c4966a94224dad24d5029",
      "fc89fb31ea7b4b42b9fc2f1ac74a92c9",
      "f7a412b8d8914386b736818cf1fb66b4",
      "735c18108a004d8fb36cea0af0e35763",
      "959a142230bb4a8f94dcb4cf2a86411d",
      "88cfedca462d4bd6934fb47b5ea6f053",
      "5e2c690b0805443b9417cb5f012470a8",
      "edb9b00e8b40469796d66e8e3f5be754",
      "9c4f99f28c9b4b639cf9af0f087025b5",
      "23a5daabc3724d91bbf94e64977afacd",
      "4d141b9f63534a0e9f2a778004988e21",
      "0b0b4bf3162e4e5d97f0f37224952e89",
      "0db00df59a0841b89c109cc8e171efd9",
      "a30e67cad5c845eb964ce82729464e67",
      "14d8101038b54c2eb501c246deee6f8d",
      "63c3c8de60234a1e8f93167ae6a84552",
      "4fd9369cb6c141df8c3efd2e7f7669e5",
      "46c5793d05814a12825a505e7f5283f7",
      "def091772a924e65a3c30d21aae05d22",
      "619ec346f1e348a2abf31b2774347f65",
      "6775e6a30dc044e2b272f5a76ba16fef",
      "a78954e9be5242eba39f9fa3b93bb920",
      "15827bf60ddc4263843424441c4cb902",
      "b6bb44e945cf48b7990b7895ae40124f",
      "45b1e1b83a604fe4b8ab3a146077b05e",
      "b45ee24dfcb94735a9bc4e61c1f65419",
      "c15f804885c74dbeb32c14f989079b16",
      "d93cd68cc07f458bb03487a3d4f7f912",
      "88e9ba29111944749cf45146d12b96cb",
      "7c19b76fa7d846c6b30de341e9b4a0e0",
      "c3a97d5a8725450493ab3c653e822a02",
      "881245f30d53416ca74e2849425b8cd9",
      "e8d79f54be67450793c34ae5bb9c18ab",
      "f21d80553fc049e6b5134f8371add578",
      "f64daf4978ac40ffb64912263339fc95",
      "ebeb83ebbdd44bf8b94b060bb9f1e684",
      "279dab48d3474c4897dea3850a7565f8",
      "f5f6d5586a864e959ffc567e9246e389",
      "464def8bc71b4347badc1488c3174004",
      "b7aa6cbe56574d7db9bb4699ebe1b98a",
      "f8091c93b8ea4db2ad63132463bb5300",
      "d8544f8481f44cf69aedf6557adad9c6",
      "66518cb40aad4124a2d2911467b3fa98",
      "f1a3f0798f344874809d089ff0ef8251",
      "3a26510a2f9148d8aee08f4b8789e3f8",
      "b673dbccab244f2a88393e2f06653b55",
      "9cc7d4e4992340b89a890820ec1b9205",
      "d75a4f9dff994615b6e0e90e81604a8e",
      "924515be4b564dc28a1f66f9ba8c339b",
      "94c87ff293af405aa7389435545cc9c8",
      "5090c7142b3e4ff28756ef6a5094215e",
      "c491d2732eec4e18ab397dda8e93c6d5",
      "e390810aa9044a558e6fda47029f3a30",
      "dce25d133dad4e10a235fca8e77ff512",
      "656bcac12fcc4294a644aec484d22c77",
      "6ff3f394107e4e1594e116c18a993091",
      "82e1ae86e1d4445dbf7f3a98425c0937",
      "a97da71b1bf542ecbd2876cd2876d588",
      "6ccaec95f0d941398a4eaf227b38e766",
      "449af2027933492785e76cb997c90c60",
      "70c1fb2d741745d8b7179a42792afad5",
      "0f7d565926d0443c8b160364e10ee2aa",
      "e71ad2fe8daf449fb96654861be3b7d1",
      "2455585997894a20ac89477270a4d117",
      "983038694ad046c0a9c50002e1e561c5",
      "2499bd22a4be40fda9cce8c30418db97",
      "26218d1b05304c2ab70540fa268424a2",
      "ad31ca7f78344aa5a27c10a27549a2ce"
     ]
    },
    "id": "nrWqeq1i72qI",
    "outputId": "01d0c338-0c0c-4655-f1f5-a601622e101a"
   },
   "outputs": [],
   "source": [
    "# 🔎 실제 컬럼명에 따라 수정 필요\n",
    "text_col = \"사람문장1\"  # 또는 '발화', '문장', 등\n",
    "\n",
    "texts = df[text_col].dropna().astype(str).tolist()\n",
    "texts = texts[:10]  # 예제용으로 10개만 처리 (더 하고 싶으면 이 줄 제거)\n",
    "\n",
    "# ✅ 모델 로딩\n",
    "model_name = \"searle-j/kote_for_easygoing_people\"\n",
    "tokenizer = AutoTokenizer.from_pretrained(model_name)\n",
    "model = AutoModelForSequenceClassification.from_pretrained(model_name)\n",
    "\n",
    "pipe = TextClassificationPipeline(\n",
    "    model=model,\n",
    "    tokenizer=tokenizer,\n",
    "    device=device,\n",
    "    return_all_scores=True,\n",
    "    function_to_apply='sigmoid'\n",
    ")\n",
    "\n",
    "# ✅ 감정 분석\n",
    "pipe_outputs = pipe(texts)\n",
    "\n",
    "# ✅ 출력 (score ≥ 0.4만)\n",
    "for i in range(len(pipe_outputs)):\n",
    "    print(f\"\\n▶ 문장: {texts[i]}\")\n",
    "    for output in pipe_outputs[i]:\n",
    "        if output[\"score\"] > 0.4:\n",
    "            print(f\"  - 감정: {output['label']} / 확률: {output['score']:.2f}\")\n"
   ]
  },
  {
   "cell_type": "code",
   "execution_count": null,
   "metadata": {
    "colab": {
     "base_uri": "https://localhost:8080/"
    },
    "id": "XoPOPhJX75sZ",
    "outputId": "a79012c2-52ab-4a12-97e9-749192fa56d2"
   },
   "outputs": [],
   "source": [
    "# ✅ 사용자 입력 문장 감정 분석\n",
    "while True:\n",
    "    user_input = input(\"감정 분석할 문장을 입력하세요 (종료하려면 exit): \")\n",
    "    if user_input.lower() == \"exit\":\n",
    "        break\n",
    "    result = pipe(user_input)[0]\n",
    "    print(f\"▶ 입력 문장: {user_input}\")\n",
    "    for r in result:\n",
    "        if r[\"score\"] > 0.4:\n",
    "            print(f\"  - 감정: {r['label']} / 확률: {r['score']:.2f}\")\n",
    "    print()\n"
   ]
  }
 ],
 "metadata": {
  "colab": {
   "provenance": []
  },
  "kernelspec": {
   "display_name": "Python 3",
   "name": "python3"
  },
  "language_info": {
   "name": "python"
  }
 },
 "nbformat": 4,
 "nbformat_minor": 0
}
