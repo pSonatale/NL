{
  "nbformat": 4,
  "nbformat_minor": 0,
  "metadata": {
    "colab": {
      "provenance": []
    },
    "kernelspec": {
      "name": "python3",
      "display_name": "Python 3"
    },
    "language_info": {
      "name": "python"
    }
  },
  "cells": [
    {
      "cell_type": "code",
      "source": [
        "!pip install spotipy\n",
        "import spotipy\n",
        "print(\"Spotipy is successfully installed and imported!\")"
      ],
      "metadata": {
        "colab": {
          "base_uri": "https://localhost:8080/"
        },
        "collapsed": true,
        "id": "P71g1AMj_5tg",
        "outputId": "03c630be-aa12-47d7-ead1-099cccee1767"
      },
      "execution_count": null,
      "outputs": [
        {
          "output_type": "stream",
          "name": "stdout",
          "text": [
            "Collecting spotipy\n",
            "  Downloading spotipy-2.24.0-py3-none-any.whl.metadata (4.9 kB)\n",
            "Collecting redis>=3.5.3 (from spotipy)\n",
            "  Downloading redis-5.2.1-py3-none-any.whl.metadata (9.1 kB)\n",
            "Requirement already satisfied: requests>=2.25.0 in /usr/local/lib/python3.10/dist-packages (from spotipy) (2.32.3)\n",
            "Requirement already satisfied: urllib3>=1.26.0 in /usr/local/lib/python3.10/dist-packages (from spotipy) (2.2.3)\n",
            "Requirement already satisfied: async-timeout>=4.0.3 in /usr/local/lib/python3.10/dist-packages (from redis>=3.5.3->spotipy) (4.0.3)\n",
            "Requirement already satisfied: charset-normalizer<4,>=2 in /usr/local/lib/python3.10/dist-packages (from requests>=2.25.0->spotipy) (3.4.0)\n",
            "Requirement already satisfied: idna<4,>=2.5 in /usr/local/lib/python3.10/dist-packages (from requests>=2.25.0->spotipy) (3.10)\n",
            "Requirement already satisfied: certifi>=2017.4.17 in /usr/local/lib/python3.10/dist-packages (from requests>=2.25.0->spotipy) (2024.8.30)\n",
            "Downloading spotipy-2.24.0-py3-none-any.whl (30 kB)\n",
            "Downloading redis-5.2.1-py3-none-any.whl (261 kB)\n",
            "\u001b[2K   \u001b[90m━━━━━━━━━━━━━━━━━━━━━━━━━━━━━━━━━━━━━━━━\u001b[0m \u001b[32m261.5/261.5 kB\u001b[0m \u001b[31m6.6 MB/s\u001b[0m eta \u001b[36m0:00:00\u001b[0m\n",
            "\u001b[?25hInstalling collected packages: redis, spotipy\n",
            "Successfully installed redis-5.2.1 spotipy-2.24.0\n",
            "Spotipy is successfully installed and imported!\n"
          ]
        }
      ]
    },
    {
      "cell_type": "code",
      "execution_count": null,
      "metadata": {
        "id": "jdYTcWqK_j4j"
      },
      "outputs": [],
      "source": [
        "from spotipy.oauth2 import SpotifyClientCredentials\n",
        "\n",
        "client_id = \"6dde5eaeb8b74c13b29ab4f95ab8f602\"\n",
        "client_secret = \"5773fcdbaec8435ea63c076cf8d82f77\"\n",
        "\n",
        "sp = spotipy.Spotify(auth_manager=SpotifyClientCredentials(client_id=client_id, client_secret=client_secret))"
      ]
    },
    {
      "cell_type": "code",
      "source": [
        "import random\n",
        "\n",
        "def recommend_bgm(emotion):\n",
        "    # 감정별 키워드 맵핑\n",
        "    emotion_to_keywords = {\n",
        "        \"happy\": \"happy instrumental\",\n",
        "        \"sad\": \"sad piano\",\n",
        "        \"relief\": \"calm ambient\",\n",
        "        \"anger\": \"intense instrumental\",\n",
        "        \"fun\": \"upbeat instrumental\",\n",
        "        \"worry\": \"soothing sounds\",\n",
        "        \"neutral\": \"background music\",\n",
        "        \"hate\": \"dark instrumental\",\n",
        "        \"love\": \"romantic instrumental\",\n",
        "        \"enthusiasm\": \"motivational music\",\n",
        "        \"boredom\": \"chill beats\",\n",
        "        \"confusion\": \"abstract soundscapes\",\n",
        "        \"joy\": \"joyful melodies\",\n",
        "        \"fear\": \"tense atmosphere\",\n",
        "    }\n",
        "\n",
        "    query = emotion_to_keywords.get(emotion, \"calm music\")  # 기본값 설정\n",
        "    offset = random.randint(0, 50)  # 검색 결과의 시작점을 무작위로 설정\n",
        "    results = sp.search(q=query, type=\"track\", limit=5, offset=offset)  # 상위 5개의 트랙 검색\n",
        "    tracks = []\n",
        "    for item in results['tracks']['items']:\n",
        "        tracks.append({\n",
        "            \"name\": item['name'],\n",
        "            \"artist\": item['artists'][0]['name'],\n",
        "            \"url\": item['external_urls']['spotify']\n",
        "        })\n",
        "    return tracks\n",
        "\n",
        "# 테스트\n",
        "emotion = \"happy\"\n",
        "bgm_recommendations = recommend_bgm(emotion)\n",
        "for bgm in bgm_recommendations:\n",
        "    print(f\"Track: {bgm['name']}, Artist: {bgm['artist']}, URL: {bgm['url']}\")"
      ],
      "metadata": {
        "colab": {
          "base_uri": "https://localhost:8080/"
        },
        "id": "KW7zjPDqAVuI",
        "outputId": "2ad37144-22eb-4915-d654-e8af232b3ed9"
      },
      "execution_count": null,
      "outputs": [
        {
          "output_type": "stream",
          "name": "stdout",
          "text": [
            "Track: Full of Happiness, Artist: Audiosphere, URL: https://open.spotify.com/track/3NE2rvIog3uDXCkxYSUWUD\n",
            "Track: Happy Instrumental Jazz Sessions, Artist: Happy Instrumental Jazz, URL: https://open.spotify.com/track/50onqrQAErKbwu4ILSsgDG\n",
            "Track: Today Is My Day (Instrumental), Artist: Melodality, URL: https://open.spotify.com/track/0o3a9AfFb7AqgrmDyvAOcU\n",
            "Track: Happy Instrumental Jazz, Artist: Happy Instrumental Jazz, URL: https://open.spotify.com/track/0bhHKWGZVeeMcMcVsODVOk\n",
            "Track: My Happy Mood, Artist: Audiosphere, URL: https://open.spotify.com/track/2VbkrVktxzn3axHp9Ms7GF\n"
          ]
        }
      ]
    },
    {
      "cell_type": "code",
      "source": [
        "import random\n",
        "import spotipy\n",
        "from spotipy.oauth2 import SpotifyClientCredentials\n",
        "\n",
        "# Spotify API 인증\n",
        "client_id = \"your_client_id\"\n",
        "client_secret = \"your_client_secret\"\n",
        "sp = spotipy.Spotify(auth_manager=SpotifyClientCredentials(client_id=client_id, client_secret=client_secret))\n",
        "\n",
        "# 감정에 따른 추천 BGM 검색 함수\n",
        "def recommend_bgm(emotion):\n",
        "    # 감정별 키워드 맵핑 (instrumental 추가)\n",
        "    emotion_to_keywords = {\n",
        "        \"happy\": \"calm happy instrumental\",\n",
        "        \"sad\": \"soft piano instrumental\",\n",
        "        \"relief\": \"ambient calm instrumental\",\n",
        "        \"anger\": \"mellow instrumental\",\n",
        "        \"fun\": \"light upbeat instrumental\",\n",
        "        \"worry\": \"calming sounds instrumental\",\n",
        "        \"neutral\": \"relaxing ambient instrumental\",\n",
        "        \"hate\": \"peaceful instrumental\",\n",
        "        \"love\": \"gentle romantic instrumental\",\n",
        "        \"enthusiasm\": \"soft motivational instrumental\",\n",
        "        \"boredom\": \"soothing chill instrumental\",\n",
        "        \"confusion\": \"gentle soundscapes instrumental\",\n",
        "        \"joy\": \"calm joyful instrumental\",\n",
        "        \"fear\": \"soft atmospheric instrumental\",\n",
        "    }\n",
        "\n",
        "    # 기본적으로 동화책 읽기에 적합한 잔잔한 BGM\n",
        "    default_bgm = \"soft relaxing instrumental\"\n",
        "\n",
        "    # 감정에 따른 키워드 가져오기 (없으면 기본값 사용)\n",
        "    query = emotion_to_keywords.get(emotion, default_bgm)\n",
        "\n",
        "    # Spotify API 검색 (결과는 하나만 반환)\n",
        "    results = sp.search(q=query, type=\"track\", limit=1)  # 상위 1개의 트랙만 검색\n",
        "\n",
        "    # 추천된 트랙 저장 (결과값 하나만 저장)\n",
        "    track = {}\n",
        "    if results['tracks']['items']:\n",
        "        item = results['tracks']['items'][0]\n",
        "        track = {\n",
        "            \"name\": item['name'],\n",
        "            \"artist\": item['artists'][0]['name'],\n",
        "            \"url\": item['external_urls']['spotify']\n",
        "        }\n",
        "\n",
        "    return track\n",
        "\n",
        "# 테스트\n",
        "emotion = \"happy\"  # 테스트를 위해 감정 입력\n",
        "bgm_recommendation = recommend_bgm(emotion)\n",
        "\n",
        "# 결과 출력\n",
        "if bgm_recommendation:\n",
        "    print(\"Recommended BGM Track:\")\n",
        "    print(f\"Track: {bgm_recommendation['name']}, Artist: {bgm_recommendation['artist']}, URL: {bgm_recommendation['url']}\")\n",
        "else:\n",
        "    print(\"No suitable track found.\")"
      ],
      "metadata": {
        "colab": {
          "base_uri": "https://localhost:8080/"
        },
        "id": "O3PPH3qTCkaq",
        "outputId": "29612b0b-466b-4a80-a8ef-5e7a7f036526"
      },
      "execution_count": null,
      "outputs": [
        {
          "output_type": "stream",
          "name": "stdout",
          "text": [
            "Recommended BGM Track:\n",
            "Track: Happy Birthday To You (Instrumental Version), Artist: The O'Neill Brothers Group, URL: https://open.spotify.com/track/7GwwJY2b7fkOfvRTc3oxq9\n"
          ]
        }
      ]
    },
    {
      "cell_type": "code",
      "source": [
        "# 감정에 따른 추천 BGM 검색 함수\n",
        "def recommend_bgm(emotion):\n",
        "    # 감정별 키워드 매핑\n",
        "    emotion_to_keywords = {\n",
        "        \"happy\": \"happy instrumental\",\n",
        "        \"sad\": \"sad piano\",\n",
        "        \"relief\": \"calm ambient\",\n",
        "        \"anger\": \"intense instrumental\",\n",
        "        \"fun\": \"upbeat instrumental\",\n",
        "        \"worry\": \"soothing sounds\",\n",
        "        \"love\": \"romantic instrumental\",\n",
        "        \"neutral\": \"background music\",\n",
        "        \"hate\": \"dark ambient\",\n",
        "        \"enthusiasm\": \"energetic instrumental\",\n",
        "        \"empty\": \"minimal ambient\",\n",
        "        \"surprise\": \"unexpected sounds\",\n",
        "        \"boredom\": \"chill lo-fi\"\n",
        "    }\n",
        "\n",
        "    # 감정에 해당하는 키워드 검색\n",
        "    query = emotion_to_keywords.get(emotion, \"calm music\")  # 기본값: calm music\n",
        "    results = sp.search(q=query, type=\"track\", limit=1)  # 상위 1개의 트랙 검색\n",
        "\n",
        "    # 검색 결과 정리\n",
        "    track = {}\n",
        "    if results['tracks']['items']:\n",
        "        item = results['tracks']['items'][0]\n",
        "        track = {\n",
        "            \"name\": item['name'],\n",
        "            \"artist\": item['artists'][0]['name'],\n",
        "            \"url\": item['external_urls']['spotify']\n",
        "        }\n",
        "\n",
        "    return track\n",
        "\n",
        "# 테스트\n",
        "emotion = \"happy\"  # 테스트할 감정 상태\n",
        "bgm_recommendation = recommend_bgm(emotion)\n",
        "\n",
        "# 결과 출력\n",
        "if bgm_recommendation:\n",
        "    print(f\"Emotion: {emotion}\")\n",
        "    print(f\"Track: {bgm_recommendation['name']}\")\n",
        "    print(f\"Artist: {bgm_recommendation['artist']}\")\n",
        "    print(f\"URL: {bgm_recommendation['url']}\")\n",
        "else:\n",
        "    print(f\"No suitable track found for emotion: {emotion}\")"
      ],
      "metadata": {
        "colab": {
          "base_uri": "https://localhost:8080/"
        },
        "id": "IMM4MYPyD08R",
        "outputId": "407317eb-7bc9-4b6f-b207-bb822d7d78fc"
      },
      "execution_count": null,
      "outputs": [
        {
          "output_type": "stream",
          "name": "stdout",
          "text": [
            "Emotion: happy\n",
            "Track: Happy (Instrumental Version) [Originally performed by Pharrell Williams]\n",
            "Artist: Back Track Karaoke\n",
            "URL: https://open.spotify.com/track/4NkcfR8hOKaBgGbtNcimgQ\n"
          ]
        }
      ]
    }
  ]
}