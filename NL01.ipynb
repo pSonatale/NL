{
  "nbformat": 4,
  "nbformat_minor": 0,
  "metadata": {
    "colab": {
      "provenance": [],
      "gpuType": "T4"
    },
    "kernelspec": {
      "name": "python3",
      "display_name": "Python 3"
    },
    "language_info": {
      "name": "python"
    },
    "accelerator": "GPU"
  },
  "cells": [
    {
      "cell_type": "code",
      "execution_count": null,
      "metadata": {
        "id": "leiAQzrhO71m"
      },
      "outputs": [],
      "source": [
        "!pip install transformers datasets pandas scikit-learn"
      ]
    },
    {
      "cell_type": "code",
      "source": [
        "from google.colab import drive\n",
        "drive.mount('/content/drive')"
      ],
      "metadata": {
        "colab": {
          "base_uri": "https://localhost:8080/"
        },
        "collapsed": true,
        "id": "6Q1hLXNqPIdR",
        "outputId": "caa2119b-59c0-4166-dbcf-e74706bdd83f"
      },
      "execution_count": 11,
      "outputs": [
        {
          "output_type": "stream",
          "name": "stdout",
          "text": [
            "Drive already mounted at /content/drive; to attempt to forcibly remount, call drive.mount(\"/content/drive\", force_remount=True).\n"
          ]
        }
      ]
    },
    {
      "cell_type": "code",
      "source": [
        "import re\n",
        "import pandas as pd\n",
        "from sklearn.preprocessing import LabelEncoder\n",
        "\n",
        "def preprocess_text(text):\n",
        "    # 소문자 변환\n",
        "    text = text.lower()\n",
        "    # @멘션 제거\n",
        "    text = re.sub(r\"@[A-Za-z0-9_]+\", \"\", text)\n",
        "    # 특수문자, 숫자 제거\n",
        "    text = re.sub(r\"[^a-zA-Z\\s]\", \"\", text)\n",
        "    # 다중 공백을 단일 공백으로 변경\n",
        "    text = re.sub(r\"\\s+\", \" \", text).strip()\n",
        "    return text\n",
        "\n",
        "# ===============================\n",
        "# 1. 데이터 불러오기 및 기본 전처리\n",
        "# ===============================\n",
        "file_path = \"/content/drive/MyDrive/tweet_emotions.csv\"\n",
        "df = pd.read_csv(file_path)\n",
        "\n",
        "# tweet_id 열 제거\n",
        "df = df.drop(columns=[\"tweet_id\"], axis=1)\n",
        "\n",
        "# 텍스트 전처리 적용\n",
        "df[\"content\"] = df[\"content\"].apply(preprocess_text)\n",
        "\n",
        "# ===============================\n",
        "# 2. 감정 그룹(7가지) 통합 및 라벨 인코딩 (joy, love, sadness, anger, anxiety, surprise, neutral)\n",
        "# ===============================\n",
        "emotion_map_7 = {\n",
        "    'happiness': 'joy',\n",
        "    'fun': 'joy',\n",
        "    'enthusiasm': 'joy',\n",
        "    'love': 'love',\n",
        "    'relief': 'love',\n",
        "    'sadness': 'sadness',\n",
        "    'empty': 'sadness',\n",
        "    'anger': 'anger',\n",
        "    'hate': 'anger',\n",
        "    'worry': 'anxiety',\n",
        "    'boredom': 'anxiety',\n",
        "    'surprise': 'surprise',\n",
        "    'neutral': 'neutral'\n",
        "}\n",
        "\n",
        "# 새로운 감정 그룹 열 생성\n",
        "df['emotion_group'] = df['sentiment'].map(emotion_map_7)\n",
        "\n",
        "# 라벨 인코딩 (숫자 레이블로 변환)\n",
        "group7_encoder = LabelEncoder()\n",
        "df['label'] = group7_encoder.fit_transform(df['emotion_group'])\n",
        "\n",
        "# 클래스 확인\n",
        "print(\"통합된 감정 클래스:\", list(group7_encoder.classes_))\n",
        "\n",
        "# ===============================\n",
        "# 3. 정제된 데이터 저장\n",
        "# ===============================\n",
        "cleaned_file_path = \"/content/sample_data/cleaned_tweet_emotions.csv\"\n",
        "df.to_csv(cleaned_file_path, index=False)\n",
        "print(f\"전처리된 데이터가 {cleaned_file_path}에 저장되었습니다.\")"
      ],
      "metadata": {
        "colab": {
          "base_uri": "https://localhost:8080/"
        },
        "id": "FNg_pTBTPRlO",
        "outputId": "a61e54b8-9b10-4147-9509-074f18624c1e"
      },
      "execution_count": 23,
      "outputs": [
        {
          "output_type": "stream",
          "name": "stdout",
          "text": [
            "통합된 감정 클래스: ['anger', 'anxiety', 'joy', 'love', 'neutral', 'sadness', 'surprise']\n",
            "전처리된 데이터가 /content/sample_data/cleaned_tweet_emotions.csv에 저장되었습니다.\n"
          ]
        }
      ]
    },
    {
      "cell_type": "code",
      "source": [
        "import pandas as pd\n",
        "\n",
        "# 데이터 로드 (예시)\n",
        "file_path = '/content/sample_data/cleaned_tweet_emotions.csv'  # 코랩 환경에 맞게 경로 수정\n",
        "df = pd.read_csv(file_path)\n",
        "\n",
        "# 결측값 제거\n",
        "df = df.dropna(subset=[\"content\"])  # NaN 제거\n",
        "\n",
        "# 중복 데이터 제거\n",
        "df = df.drop_duplicates(subset=[\"content\"])  # 중복된 텍스트 제거\n",
        "\n",
        "# 텍스트 정제: 모든 텍스트를 소문자로 변환\n",
        "df[\"content\"] = df[\"content\"].str.lower()\n",
        "\n",
        "# 텍스트 정제: 특수문자 제거\n",
        "import re\n",
        "df[\"content\"] = df[\"content\"].apply(lambda x: re.sub(r\"[^a-zA-Z0-9\\s]\", \"\", x))\n",
        "\n",
        "# 데이터 확인\n",
        "print(df.head())\n",
        "print(df.info())"
      ],
      "metadata": {
        "colab": {
          "base_uri": "https://localhost:8080/"
        },
        "id": "bwQUMigRPW_s",
        "outputId": "39f3550e-a894-4768-8cd6-df5afbc7b3b1"
      },
      "execution_count": 25,
      "outputs": [
        {
          "output_type": "stream",
          "name": "stdout",
          "text": [
            "    sentiment                                            content  \\\n",
            "0       empty  i know i was listenin to bad habit earlier and...   \n",
            "1     sadness  layin n bed with a headache ughhhhwaitin on yo...   \n",
            "2     sadness                      funeral ceremonygloomy friday   \n",
            "3  enthusiasm                wants to hang out with friends soon   \n",
            "4     neutral  we want to trade with someone who has houston ...   \n",
            "\n",
            "  emotion_group  label  \n",
            "0       sadness      5  \n",
            "1       sadness      5  \n",
            "2       sadness      5  \n",
            "3           joy      2  \n",
            "4       neutral      4  \n",
            "<class 'pandas.core.frame.DataFrame'>\n",
            "Index: 39041 entries, 0 to 39999\n",
            "Data columns (total 4 columns):\n",
            " #   Column         Non-Null Count  Dtype \n",
            "---  ------         --------------  ----- \n",
            " 0   sentiment      39041 non-null  object\n",
            " 1   content        39041 non-null  object\n",
            " 2   emotion_group  39041 non-null  object\n",
            " 3   label          39041 non-null  int64 \n",
            "dtypes: int64(1), object(3)\n",
            "memory usage: 1.5+ MB\n",
            "None\n"
          ]
        }
      ]
    },
    {
      "cell_type": "code",
      "source": [
        "from sklearn.preprocessing import LabelEncoder\n",
        "\n",
        "# 감정 그룹 기준으로 라벨 인코딩(BERT는 숫자 입력을 사용하므로 감정 라벨(emotion_group)을 숫자로 변환해야 합니다.)\n",
        "label_encoder = LabelEncoder()\n",
        "df[\"label\"] = label_encoder.fit_transform(df[\"emotion_group\"]) # emotion_group 컬럼을 숫자로 변환\n",
        "print(label_encoder.classes_)  # 라벨 순서 확인\n",
        "\n",
        "# 라벨 숫자 추가되었는지 확인..\n",
        "print(df[[\"emotion_group\", \"label\"]].head())"
      ],
      "metadata": {
        "colab": {
          "base_uri": "https://localhost:8080/"
        },
        "id": "WQuvNL9BPao6",
        "outputId": "1d181ee3-0c59-4fb3-d112-abd5e12e444c"
      },
      "execution_count": 28,
      "outputs": [
        {
          "output_type": "stream",
          "name": "stdout",
          "text": [
            "['anger' 'anxiety' 'joy' 'love' 'neutral' 'sadness' 'surprise']\n",
            "  emotion_group  label\n",
            "0       sadness      5\n",
            "1       sadness      5\n",
            "2       sadness      5\n",
            "3           joy      2\n",
            "4       neutral      4\n"
          ]
        }
      ]
    },
    {
      "cell_type": "code",
      "source": [
        "# 클래스 분포 확인\n",
        "class_distribution = df[\"label\"].value_counts()\n",
        "\n",
        "# 비율 계산\n",
        "class_percentage = df[\"label\"].value_counts(normalize=True) * 100\n",
        "\n",
        "# 분포 출력\n",
        "print(\"클래스 분포:\")\n",
        "print(class_distribution)\n",
        "print(\"\\n클래스 비율 (%):\")\n",
        "print(class_percentage)\n",
        "\n",
        "# 시각화\n",
        "import matplotlib.pyplot as plt\n",
        "\n",
        "plt.figure(figsize=(10, 6))\n",
        "class_distribution.plot(kind=\"bar\", color=\"skyblue\")\n",
        "plt.title(\"Class Distribution\")\n",
        "plt.xlabel(\"Class\")\n",
        "plt.ylabel(\"Number of Samples\")\n",
        "plt.xticks(rotation=45)\n",
        "plt.show()"
      ],
      "metadata": {
        "colab": {
          "base_uri": "https://localhost:8080/",
          "height": 954
        },
        "id": "p5CG8gw3PefA",
        "outputId": "818e4f3a-6fad-4148-ad5a-6b1f648bc78d"
      },
      "execution_count": 29,
      "outputs": [
        {
          "output_type": "stream",
          "name": "stdout",
          "text": [
            "클래스 분포:\n",
            "label\n",
            "1    8510\n",
            "4    8316\n",
            "2    7575\n",
            "5    5888\n",
            "3    5174\n",
            "6    2152\n",
            "0    1426\n",
            "Name: count, dtype: int64\n",
            "\n",
            "클래스 비율 (%):\n",
            "label\n",
            "1    21.797597\n",
            "4    21.300684\n",
            "2    19.402679\n",
            "5    15.081581\n",
            "3    13.252734\n",
            "6     5.512154\n",
            "0     3.652570\n",
            "Name: proportion, dtype: float64\n"
          ]
        },
        {
          "output_type": "display_data",
          "data": {
            "text/plain": [
              "<Figure size 1000x600 with 1 Axes>"
            ],
            "image/png": "[encoded data removed]"
          },
          "metadata": {}
        }
      ]
    },
    {
      "cell_type": "code",
      "source": [
        "import torch\n",
        "from sklearn.utils.class_weight import compute_class_weight\n",
        "import torch.nn as nn\n",
        "\n",
        "# 클래스 가중치 계산\n",
        "class_weights = compute_class_weight(class_weight=\"balanced\", classes=df[\"label\"].unique(), y=df[\"label\"])\n",
        "class_weights = torch.tensor(class_weights, dtype=torch.float)\n",
        "\n",
        "# 손실 함수에 가중치 적용\n",
        "criterion = nn.CrossEntropyLoss(weight=class_weights)"
      ],
      "metadata": {
        "id": "lND6qedxPjN7"
      },
      "execution_count": 32,
      "outputs": []
    },
    {
      "cell_type": "code",
      "source": [
        "import pandas as pd\n",
        "import torch\n",
        "from transformers import BertTokenizer\n",
        "from sklearn.model_selection import train_test_split\n",
        "from sklearn.preprocessing import LabelEncoder\n",
        "from sklearn.utils.class_weight import compute_class_weight\n",
        "from torch.utils.data import Dataset, DataLoader\n",
        "import torch.nn as nn\n",
        "\n",
        "# 데이터 정제\n",
        "df = df[df[\"content\"].apply(lambda x: isinstance(x, str))]  # 문자열만 남기기\n",
        "\n",
        "# 라벨 인코딩\n",
        "label_encoder = LabelEncoder()\n",
        "df[\"label\"] = label_encoder.fit_transform(df[\"label\"])  # label을 정수로 변환\n",
        "\n",
        "# 클래스 가중치 계산\n",
        "class_weights = compute_class_weight(\n",
        "    class_weight=\"balanced\",\n",
        "    classes=df[\"label\"].unique(),\n",
        "    y=df[\"label\"]\n",
        ")\n",
        "class_weights = torch.tensor(class_weights, dtype=torch.float)  # PyTorch Tensor 변환\n",
        "\n",
        "# 학습 데이터와 검증 데이터 분리\n",
        "train_texts, val_texts, train_labels, val_labels = train_test_split(\n",
        "    df[\"content\"].tolist(),\n",
        "    df[\"label\"].tolist(),\n",
        "    test_size=0.2,\n",
        "    random_state=42\n",
        ")\n",
        "\n",
        "# BERT 토크나이저 로드\n",
        "tokenizer = BertTokenizer.from_pretrained(\"bert-base-uncased\")\n",
        "\n",
        "# 토크나이징 함수 정의\n",
        "def tokenize_function(texts):\n",
        "    return tokenizer(\n",
        "        texts,\n",
        "        padding=\"max_length\",\n",
        "        truncation=True,\n",
        "        max_length=64,\n",
        "        return_tensors=\"pt\"\n",
        "    )\n",
        "\n",
        "# 학습 데이터와 검증 데이터 토크나이징\n",
        "train_encodings = tokenize_function(train_texts)\n",
        "val_encodings = tokenize_function(val_texts)\n",
        "\n",
        "# PyTorch Dataset 정의\n",
        "class EmotionDataset(Dataset):\n",
        "    def __init__(self, encodings, labels):\n",
        "        self.encodings = encodings\n",
        "        self.labels = torch.tensor(labels, dtype=torch.long)\n",
        "\n",
        "    def __len__(self):\n",
        "        return len(self.labels)\n",
        "\n",
        "    def __getitem__(self, idx):\n",
        "        item = {key: val[idx] for key, val in self.encodings.items()}\n",
        "        item[\"labels\"] = self.labels[idx]\n",
        "        return item\n",
        "\n",
        "# Dataset 생성\n",
        "train_dataset = EmotionDataset(train_encodings, train_labels)\n",
        "val_dataset = EmotionDataset(val_encodings, val_labels)\n",
        "\n",
        "# DataLoader 생성\n",
        "train_loader = DataLoader(train_dataset, batch_size=16, shuffle=True)\n",
        "val_loader = DataLoader(val_dataset, batch_size=16, shuffle=False)\n",
        "\n",
        "# 손실 함수에 가중치 적용\n",
        "criterion = nn.CrossEntropyLoss(weight=class_weights)\n",
        "\n",
        "# 결과 확인\n",
        "print(f\"Class Weights: {class_weights}\")\n",
        "print(f\"Train Dataset Size: {len(train_dataset)}\")"
      ],
      "metadata": {
        "colab": {
          "base_uri": "https://localhost:8080/"
        },
        "id": "Q_NzCQGoP8HO",
        "outputId": "53197bd3-03d1-4b20-8c81-c6d0231c2093"
      },
      "execution_count": 33,
      "outputs": [
        {
          "output_type": "stream",
          "name": "stdout",
          "text": [
            "Class Weights: tensor([0.9472, 0.7363, 0.6707, 0.6554, 2.5917, 1.0779, 3.9111])\n",
            "Train Dataset Size: 31232\n"
          ]
        }
      ]
    },
    {
      "cell_type": "code",
      "source": [
        "#---------------------------------(확인 절차)----------------------------------------\n",
        "# 각 문장의 길이 계산 -> max_length 설정에 영향을 줌. -> 어린이 동화 정도면 사실상 64토큰(30~40 단어 정도로 충분함.) -> pad를 줄이자.\n",
        "text_lengths = [len(tokenizer(text)[\"input_ids\"]) for text in df[\"content\"]]\n",
        "\n",
        "print(\"최대 길이:\", max(text_lengths))\n",
        "print(\"평균 길이:\", sum(text_lengths) / len(text_lengths))\n",
        "print(\"최소 길이:\", min(text_lengths))"
      ],
      "metadata": {
        "colab": {
          "base_uri": "https://localhost:8080/"
        },
        "id": "r5A--rSXQTcE",
        "outputId": "8e1d9995-a358-4d7c-821c-7bb55213c759"
      },
      "execution_count": 34,
      "outputs": [
        {
          "output_type": "stream",
          "name": "stdout",
          "text": [
            "최대 길이: 55\n",
            "평균 길이: 16.940882661817064\n",
            "최소 길이: 3\n"
          ]
        }
      ]
    },
    {
      "cell_type": "code",
      "source": [
        "len(train_texts), len(train_labels), len(val_texts), len(val_labels)"
      ],
      "metadata": {
        "colab": {
          "base_uri": "https://localhost:8080/"
        },
        "id": "0LexOpVAQYvx",
        "outputId": "91c52cd5-5229-4680-ff2e-7a90127783e8"
      },
      "execution_count": 35,
      "outputs": [
        {
          "output_type": "execute_result",
          "data": {
            "text/plain": [
              "(31232, 31232, 7809, 7809)"
            ]
          },
          "metadata": {},
          "execution_count": 35
        }
      ]
    },
    {
      "cell_type": "code",
      "source": [
        "print(train_encodings[\"input_ids\"].shape)\n",
        "print(val_encodings[\"input_ids\"].shape)"
      ],
      "metadata": {
        "colab": {
          "base_uri": "https://localhost:8080/"
        },
        "id": "Q-3VrHP-Qd7i",
        "outputId": "3d85b784-2cac-418c-d80f-33ac813da6f6"
      },
      "execution_count": 36,
      "outputs": [
        {
          "output_type": "stream",
          "name": "stdout",
          "text": [
            "torch.Size([31232, 64])\n",
            "torch.Size([7809, 64])\n"
          ]
        }
      ]
    },
    {
      "cell_type": "code",
      "source": [
        "#데이터 셋 생성\n",
        "import torch\n",
        "\n",
        "class EmotionDataset(torch.utils.data.Dataset):\n",
        "    def __init__(self, encodings, labels):\n",
        "        self.encodings = encodings\n",
        "        self.labels = torch.tensor(labels, dtype=torch.long)  # 리스트 → 텐서 변환\n",
        "\n",
        "    def __getitem__(self, idx):\n",
        "        item = {key: val[idx] for key, val in self.encodings.items()}\n",
        "        item[\"labels\"] = self.labels[idx]  # dtype=torch.long 적용됨\n",
        "        return item\n",
        "\n",
        "    def __len__(self):\n",
        "        return len(self.labels)\n",
        "\n",
        "train_dataset = EmotionDataset(train_encodings, train_labels)\n",
        "val_dataset = EmotionDataset(val_encodings, val_labels)"
      ],
      "metadata": {
        "id": "qCDCACjBQhko"
      },
      "execution_count": 37,
      "outputs": []
    },
    {
      "cell_type": "code",
      "source": [
        "#-------------------------------------------------------------------\n",
        "from collections import Counter\n",
        "\n",
        "# Train과 Validation 데이터 분포 출력\n",
        "print(\"Train label distribution:\", Counter(train_labels))\n",
        "print(\"Validation label distribution:\", Counter(val_labels))"
      ],
      "metadata": {
        "colab": {
          "base_uri": "https://localhost:8080/"
        },
        "id": "0MQn-rGVQmsS",
        "outputId": "9412fce0-bed2-4704-adf0-ed6556609e28"
      },
      "execution_count": 38,
      "outputs": [
        {
          "output_type": "stream",
          "name": "stdout",
          "text": [
            "Train label distribution: Counter({1: 6823, 4: 6672, 2: 6033, 5: 4706, 3: 4142, 6: 1701, 0: 1155})\n",
            "Validation label distribution: Counter({1: 1687, 4: 1644, 2: 1542, 5: 1182, 3: 1032, 6: 451, 0: 271})\n"
          ]
        }
      ]
    },
    {
      "cell_type": "code",
      "source": [
        "import torch\n",
        "import torch.nn as nn\n",
        "from transformers import DistilBertForSequenceClassification, TrainingArguments, Trainer, EarlyStoppingCallback\n",
        "\n",
        "class CustomDistilBERTModel(DistilBertForSequenceClassification):\n",
        "    def __init__(self, config, class_weights):\n",
        "        super().__init__(config)\n",
        "        self.class_weights = class_weights.to(torch.device(\"cuda\" if torch.cuda.is_available() else \"cpu\"))  # device 수정\n",
        "        self.loss_fn = nn.CrossEntropyLoss(weight=self.class_weights)  # 가중치 적용\n",
        "\n",
        "    def forward(self, input_ids=None, attention_mask=None, labels=None, **kwargs):\n",
        "        # 모델 호출 시 전달되는 불필요한 인자를 처리하지 않도록 수정\n",
        "        outputs = super().forward(input_ids=input_ids, attention_mask=attention_mask, labels=labels)\n",
        "        logits = outputs.logits\n",
        "\n",
        "        if labels is not None:\n",
        "            loss = self.loss_fn(logits, labels)\n",
        "            return {\"loss\": loss, \"logits\": logits}\n",
        "        return {\"logits\": logits}\n",
        "\n",
        "\n",
        "# 라벨 개수 설정\n",
        "num_labels = len(label_encoder.classes_)\n",
        "\n",
        "# Custom DistilBERT 모델 로드\n",
        "model = CustomDistilBERTModel.from_pretrained(\n",
        "    \"distilbert-base-uncased\",\n",
        "    num_labels=num_labels,\n",
        "    class_weights=class_weights  # 가중치 전달\n",
        ")\n",
        "\n",
        "# 특정 레이어 동결 (프리트레인된 부분은 학습하지 않음)\n",
        "for param in model.distilbert.parameters():\n",
        "    param.requires_grad = False  # DistilBERT 본체 동결\n",
        "\n",
        "for param in model.classifier.parameters():\n",
        "    param.requires_grad = True  # 분류기 부분만 학습\n",
        "\n",
        "\n",
        "# TrainingArguments 설정\n",
        "training_args = TrainingArguments(\n",
        "    output_dir=\"./results\",\n",
        "    evaluation_strategy=\"epoch\",  # 에포크마다 평가\n",
        "    save_strategy=\"epoch\",        # 에포크마다 저장\n",
        "    learning_rate=2e-5,\n",
        "    per_device_train_batch_size=16,  # 배치 크기 16\n",
        "    num_train_epochs=10,            # 10 에포크\n",
        "    load_best_model_at_end=True,    # 최고의 모델 저장\n",
        "    save_total_limit=2,             # 체크포인트 제한\n",
        "    logging_dir=\"./logs\",\n",
        "    report_to=\"wandb\",  # W&B 활성화\n",
        "    lr_scheduler_type=\"linear\",  # 학습률 스케줄러 설정 (learning rate 감소)\n",
        "    weight_decay=0.01,           # L2 정규화 (가중치 감쇠)\n",
        "    warmup_steps=500,            # warmup steps 설정\n",
        ")\n",
        "\n",
        "# EarlyStoppingCallback을 추가하여 검증 손실이 개선되지 않으면 훈련을 멈추도록 설정\n",
        "early_stopping_callback = EarlyStoppingCallback(early_stopping_patience=3)\n",
        "\n",
        "# Trainer 설정\n",
        "trainer = Trainer(\n",
        "    model=model,\n",
        "    args=training_args,\n",
        "    train_dataset=train_dataset,\n",
        "    eval_dataset=val_dataset,\n",
        "    tokenizer=tokenizer,\n",
        "    callbacks=[early_stopping_callback]  # EarlyStoppingCallback 추가\n",
        ")"
      ],
      "metadata": {
        "colab": {
          "base_uri": "https://localhost:8080/"
        },
        "id": "Cs_TeVVYQwaj",
        "outputId": "4183996f-fe6a-413c-e60b-1f1413455dee"
      },
      "execution_count": 39,
      "outputs": [
        {
          "output_type": "stream",
          "name": "stderr",
          "text": [
            "Some weights of CustomDistilBERTModel were not initialized from the model checkpoint at distilbert-base-uncased and are newly initialized: ['classifier.bias', 'classifier.weight', 'loss_fn.weight', 'pre_classifier.bias', 'pre_classifier.weight']\n",
            "You should probably TRAIN this model on a down-stream task to be able to use it for predictions and inference.\n",
            "/usr/local/lib/python3.11/dist-packages/transformers/training_args.py:1611: FutureWarning: `evaluation_strategy` is deprecated and will be removed in version 4.46 of 🤗 Transformers. Use `eval_strategy` instead\n",
            "  warnings.warn(\n",
            "<ipython-input-39-1a081d89e4d2>:61: FutureWarning: `tokenizer` is deprecated and will be removed in version 5.0.0 for `Trainer.__init__`. Use `processing_class` instead.\n",
            "  trainer = Trainer(\n"
          ]
        }
      ]
    },
    {
      "cell_type": "code",
      "source": [
        "#-----------------------------------------------------\n",
        "print(f\"Number of labels: {num_labels}\")\n",
        "print(len(train_dataset))  # 학습 데이터 크기 확인\n",
        "print(len(val_dataset))    # 검증 데이터 크기 확인\n",
        "#-------------------------------------------------------"
      ],
      "metadata": {
        "colab": {
          "base_uri": "https://localhost:8080/"
        },
        "id": "OjxBi7EKQ4Zu",
        "outputId": "68758315-02f2-447a-a1db-d740534da8b0"
      },
      "execution_count": 40,
      "outputs": [
        {
          "output_type": "stream",
          "name": "stdout",
          "text": [
            "Number of labels: 7\n",
            "31232\n",
            "7809\n"
          ]
        }
      ]
    },
    {
      "cell_type": "code",
      "source": [
        "trainer.train()"
      ],
      "metadata": {
        "colab": {
          "base_uri": "https://localhost:8080/",
          "height": 426
        },
        "id": "gHSV8uLYQ-rP",
        "outputId": "57acec49-024d-434c-bf59-d125b6050f80"
      },
      "execution_count": 41,
      "outputs": [
        {
          "output_type": "display_data",
          "data": {
            "text/plain": [
              "<IPython.core.display.HTML object>"
            ],
            "text/html": [
              "\n",
              "    <div>\n",
              "      \n",
              "      <progress value='19520' max='19520' style='width:300px; height:20px; vertical-align: middle;'></progress>\n",
              "      [19520/19520 12:42, Epoch 10/10]\n",
              "    </div>\n",
              "    <table border=\"1\" class=\"dataframe\">\n",
              "  <thead>\n",
              " <tr style=\"text-align: left;\">\n",
              "      <th>Epoch</th>\n",
              "      <th>Training Loss</th>\n",
              "      <th>Validation Loss</th>\n",
              "    </tr>\n",
              "  </thead>\n",
              "  <tbody>\n",
              "    <tr>\n",
              "      <td>1</td>\n",
              "      <td>1.649600</td>\n",
              "      <td>1.658171</td>\n",
              "    </tr>\n",
              "    <tr>\n",
              "      <td>2</td>\n",
              "      <td>1.589500</td>\n",
              "      <td>1.608233</td>\n",
              "    </tr>\n",
              "    <tr>\n",
              "      <td>3</td>\n",
              "      <td>1.577800</td>\n",
              "      <td>1.590450</td>\n",
              "    </tr>\n",
              "    <tr>\n",
              "      <td>4</td>\n",
              "      <td>1.552600</td>\n",
              "      <td>1.580357</td>\n",
              "    </tr>\n",
              "    <tr>\n",
              "      <td>5</td>\n",
              "      <td>1.545500</td>\n",
              "      <td>1.566725</td>\n",
              "    </tr>\n",
              "    <tr>\n",
              "      <td>6</td>\n",
              "      <td>1.546700</td>\n",
              "      <td>1.559491</td>\n",
              "    </tr>\n",
              "    <tr>\n",
              "      <td>7</td>\n",
              "      <td>1.528100</td>\n",
              "      <td>1.553827</td>\n",
              "    </tr>\n",
              "    <tr>\n",
              "      <td>8</td>\n",
              "      <td>1.525700</td>\n",
              "      <td>1.551585</td>\n",
              "    </tr>\n",
              "    <tr>\n",
              "      <td>9</td>\n",
              "      <td>1.517100</td>\n",
              "      <td>1.551375</td>\n",
              "    </tr>\n",
              "    <tr>\n",
              "      <td>10</td>\n",
              "      <td>1.526500</td>\n",
              "      <td>1.551112</td>\n",
              "    </tr>\n",
              "  </tbody>\n",
              "</table><p>"
            ]
          },
          "metadata": {}
        },
        {
          "output_type": "execute_result",
          "data": {
            "text/plain": [
              "TrainOutput(global_step=19520, training_loss=1.563172234081831, metrics={'train_runtime': 762.5955, 'train_samples_per_second': 409.549, 'train_steps_per_second': 25.597, 'total_flos': 5171988377763840.0, 'train_loss': 1.563172234081831, 'epoch': 10.0})"
            ]
          },
          "metadata": {},
          "execution_count": 41
        }
      ]
    },
    {
      "cell_type": "code",
      "source": [
        "df_external_test = pd.read_csv(\"/content/test_data.csv\")"
      ],
      "metadata": {
        "id": "GLXWAw9sbJyG"
      },
      "execution_count": 83,
      "outputs": []
    },
    {
      "cell_type": "code",
      "source": [
        "import torch\n",
        "from sklearn.metrics import accuracy_score, classification_report\n",
        "from transformers import AutoTokenizer\n",
        "\n",
        "# 1. 토크나이저 준비\n",
        "tokenizer = AutoTokenizer.from_pretrained(\"distilbert-base-uncased\")\n",
        "\n",
        "# 2. 전처리\n",
        "def preprocess_text(text):\n",
        "    text = text.lower()\n",
        "    text = re.sub(r\"@[A-Za-z0-9_]+\", \"\", text)\n",
        "    text = re.sub(r\"[^a-zA-Z\\s]\", \"\", text)\n",
        "    text = re.sub(r\"\\s+\", \" \", text).strip()\n",
        "    return text\n",
        "\n",
        "df_external_test[\"content\"] = df_external_test[\"content\"].apply(preprocess_text)\n",
        "\n",
        "# 3. 토크나이징\n",
        "test_encodings = tokenizer(\n",
        "    df_external_test[\"content\"].tolist(),\n",
        "    truncation=True,\n",
        "    padding=True,\n",
        "    max_length=128,\n",
        "    return_tensors=\"pt\"\n",
        ")\n",
        "\n",
        "# 4. EmotionDataset 클래스 활용\n",
        "class EmotionDataset(torch.utils.data.Dataset):\n",
        "    def __init__(self, encodings, labels):\n",
        "        self.encodings = encodings\n",
        "        self.labels = torch.tensor(labels, dtype=torch.long)\n",
        "\n",
        "    def __getitem__(self, idx):\n",
        "        item = {key: val[idx] for key, val in self.encodings.items()}\n",
        "        item[\"labels\"] = self.labels[idx]\n",
        "        return item\n",
        "\n",
        "    def __len__(self):\n",
        "        return len(self.labels)\n",
        "\n",
        "# 라벨 추출\n",
        "test_labels = df_external_test[\"label\"].tolist()\n",
        "test_dataset = EmotionDataset(test_encodings, test_labels)\n",
        "\n",
        "# 5. 모델 평가 (정확도 계산)\n",
        "model.eval()\n",
        "predictions = []\n",
        "true_labels = []\n",
        "\n",
        "device = torch.device(\"cuda\" if torch.cuda.is_available() else \"cpu\")\n",
        "model.to(device)\n",
        "\n",
        "with torch.no_grad():\n",
        "    for batch in torch.utils.data.DataLoader(test_dataset, batch_size=16):\n",
        "        input_ids = batch[\"input_ids\"].to(device)\n",
        "        attention_mask = batch[\"attention_mask\"].to(device)\n",
        "        labels = batch[\"labels\"].to(device)\n",
        "\n",
        "        outputs = model(input_ids=input_ids, attention_mask=attention_mask)\n",
        "        logits = outputs[\"logits\"]\n",
        "        preds = torch.argmax(logits, dim=1)\n",
        "\n",
        "        predictions.extend(preds.cpu().numpy())\n",
        "        true_labels.extend(labels.cpu().numpy())\n",
        "\n",
        "# 6. 정확도 출력\n",
        "accuracy = accuracy_score(true_labels, predictions)\n",
        "print(f\"✅ Test Accuracy: {accuracy:.4f}\")\n",
        "\n",
        "# 추가: F1-score 등 상세 성능 보고서\n",
        "print(\"\\n📊 Classification Report:\")\n",
        "print(classification_report(true_labels, predictions))"
      ],
      "metadata": {
        "colab": {
          "base_uri": "https://localhost:8080/"
        },
        "id": "3B0ShzWccBZA",
        "outputId": "2311d12c-2893-4862-eeff-1374d4d71c26"
      },
      "execution_count": 84,
      "outputs": [
        {
          "output_type": "stream",
          "name": "stdout",
          "text": [
            "✅ Test Accuracy: 0.9246\n",
            "\n",
            "📊 Classification Report:\n",
            "              precision    recall  f1-score   support\n",
            "\n",
            "           1       0.00      0.00      0.00         0\n",
            "           2       0.00      0.00      0.00         0\n",
            "           3       0.00      0.00      0.00         0\n",
            "           4       1.00      0.92      0.96      5000\n",
            "           5       0.00      0.00      0.00         0\n",
            "           6       0.00      0.00      0.00         0\n",
            "\n",
            "    accuracy                           0.92      5000\n",
            "   macro avg       0.17      0.15      0.16      5000\n",
            "weighted avg       1.00      0.92      0.96      5000\n",
            "\n"
          ]
        },
        {
          "output_type": "stream",
          "name": "stderr",
          "text": [
            "/usr/local/lib/python3.11/dist-packages/sklearn/metrics/_classification.py:1565: UndefinedMetricWarning: Recall is ill-defined and being set to 0.0 in labels with no true samples. Use `zero_division` parameter to control this behavior.\n",
            "  _warn_prf(average, modifier, f\"{metric.capitalize()} is\", len(result))\n",
            "/usr/local/lib/python3.11/dist-packages/sklearn/metrics/_classification.py:1565: UndefinedMetricWarning: Recall is ill-defined and being set to 0.0 in labels with no true samples. Use `zero_division` parameter to control this behavior.\n",
            "  _warn_prf(average, modifier, f\"{metric.capitalize()} is\", len(result))\n",
            "/usr/local/lib/python3.11/dist-packages/sklearn/metrics/_classification.py:1565: UndefinedMetricWarning: Recall is ill-defined and being set to 0.0 in labels with no true samples. Use `zero_division` parameter to control this behavior.\n",
            "  _warn_prf(average, modifier, f\"{metric.capitalize()} is\", len(result))\n"
          ]
        }
      ]
    },
    {
      "cell_type": "code",
      "source": [
        "# 모델 저장 경로를 지정\n",
        "save_directory = '/content/saved_model'\n",
        "\n",
        "# 모델 저장\n",
        "model.save_pretrained(save_directory)\n",
        "tokenizer.save_pretrained(save_directory)\n",
        "\n",
        "print(\"모델이 저장되었습니다:\", save_directory)"
      ],
      "metadata": {
        "colab": {
          "base_uri": "https://localhost:8080/"
        },
        "id": "KsS8daFRRObg",
        "outputId": "b18cea7d-0829-48c4-e5ec-68fc5cc2865e"
      },
      "execution_count": 43,
      "outputs": [
        {
          "output_type": "stream",
          "name": "stdout",
          "text": [
            "모델이 저장되었습니다: /content/saved_model\n"
          ]
        }
      ]
    },
    {
      "cell_type": "code",
      "source": [
        "import shutil\n",
        "\n",
        "# 모델 폴더를 압축\n",
        "shutil.make_archive('/content/saved_model', 'zip', '/content/saved_model')\n",
        "\n",
        "print(\"압축 완료: /content/saved_model.zip\")"
      ],
      "metadata": {
        "colab": {
          "base_uri": "https://localhost:8080/"
        },
        "id": "HiIfo8i_Zn_z",
        "outputId": "c53cf56d-1cbc-49a6-8c68-9e1898e9119d"
      },
      "execution_count": 44,
      "outputs": [
        {
          "output_type": "stream",
          "name": "stdout",
          "text": [
            "압축 완료: /content/saved_model.zip\n"
          ]
        }
      ]
    },
    {
      "cell_type": "code",
      "source": [
        "from google.colab import files\n",
        "\n",
        "# 압축된 파일 다운로드\n",
        "files.download('/content/saved_model.zip')"
      ],
      "metadata": {
        "id": "_EcmNxogZqnH"
      },
      "execution_count": null,
      "outputs": []
    }
  ]
}